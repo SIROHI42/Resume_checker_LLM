{
  "cells": [
    {
      "cell_type": "markdown",
      "source": [
        "# Importing all required libraries"
      ],
      "metadata": {
        "id": "Af5pYAoSOdcL"
      }
    },
    {
      "cell_type": "code",
      "source": [
        "from PyPDF2 import PdfReader\n",
        "from transformers import pipeline\n",
        "from sentence_transformers import SentenceTransformer, util\n",
        "from transformers import AutoTokenizer, AutoModelForSequenceClassification\n",
        "import torch"
      ],
      "metadata": {
        "id": "lYQHCSUNOZ0d"
      },
      "execution_count": 16,
      "outputs": []
    },
    {
      "cell_type": "markdown",
      "source": [
        "# Extract Text from Resume (PDF)"
      ],
      "metadata": {
        "id": "aJFJHqe1OiJj"
      }
    },
    {
      "cell_type": "code",
      "execution_count": 17,
      "metadata": {
        "id": "940to71DDAwq"
      },
      "outputs": [],
      "source": [
        "def extract_text_from_pdf(file_path):\n",
        "    reader = PdfReader(file_path)\n",
        "    text = \"\"\n",
        "    for page in reader.pages:\n",
        "        text += page.extract_text()\n",
        "    return text\n",
        "\n",
        "# Now call the function with your file path\n",
        "resume_text = extract_text_from_pdf(\"/content/Himanshu_Data_Analyst_Resume.pdf\")"
      ]
    },
    {
      "cell_type": "markdown",
      "source": [
        "# Extract Skills using a Hugging Face model"
      ],
      "metadata": {
        "id": "FMJecYDEOnZk"
      }
    },
    {
      "cell_type": "code",
      "execution_count": 18,
      "metadata": {
        "id": "5SUBN9cDDM5b"
      },
      "outputs": [],
      "source": [
        "def extract_skills(text):\n",
        "\n",
        "    ner = pipeline(\"ner\", model=\"yashpwr/resume-ner-bert-v2\", aggregation_strategy=\"simple\")\n",
        "    entities = ner(text)\n",
        "    skills = [ent[\"word\"] for ent in entities if ent[\"entity_group\"] == \"SKILL\"]\n",
        "    extracted_skills = list(set(skills))\n",
        "    data_analyst_skills = [\n",
        "        \"Python\", \"R\", \"SQL\", \"Excel\", \"Power BI\", \"Tableau\", \"Google Sheets\", \"Jupyter Notebook\",\n",
        "        \"Pandas\", \"NumPy\", \"Matplotlib\", \"Seaborn\", \"Scikit-learn\", \"Statsmodels\",\n",
        "        \"ETL\", \"Data Cleaning\", \"Data Wrangling\", \"Data Transformation\", \"Data Visualization\",\n",
        "        \"Data Modeling\", \"Data Integration\", \"PostgreSQL\", \"MySQL\", \"Snowflake\", \"BigQuery\",\n",
        "        \"Azure Data Studio\", \"AWS S3\", \"KPI Tracking\", \"Dashboard Development\",\n",
        "        \"Predictive Modeling\", \"Regression Analysis\", \"Time Series Forecasting\",\n",
        "        \"Statistical Analysis\", \"A/B Testing\", \"Exploratory Data Analysis\", \"Power Query\",\n",
        "        \"DAX\", \"SQLAlchemy\", \"Automation\", \"Workflow Optimization\", \"Classification\",\n",
        "        \"Clustering\", \"Decision Trees\", \"Random Forest\", \"Feature Engineering\",\n",
        "        \"Model Evaluation\", \"Business Intelligence\", \"Reporting\", \"Data-Driven Decision Making\",\n",
        "        \"Critical Thinking\", \"Problem Solving\"\n",
        "    ]\n",
        "\n",
        "    extracted_lower = [s.lower() for s in extracted_skills]\n",
        "    expected_lower = [s.lower() for s in data_analyst_skills]\n",
        "\n",
        "    matched = [s for s in expected_lower if s in extracted_lower]\n",
        "    missing = [s for s in expected_lower if s not in extracted_lower]\n",
        "    match_percent = (len(matched) / len(expected_lower)) * 100\n",
        "\n"
      ]
    },
    {
      "cell_type": "markdown",
      "source": [
        "# Compare Resume with Job Description using Embeddings"
      ],
      "metadata": {
        "id": "MZuoasT9O0mM"
      }
    },
    {
      "cell_type": "code",
      "execution_count": 20,
      "metadata": {
        "colab": {
          "base_uri": "https://localhost:8080/"
        },
        "id": "2tpeX_gxD_sy",
        "outputId": "cecbd068-55f6-4809-d46f-3c0a62daac03"
      },
      "outputs": [
        {
          "output_type": "stream",
          "name": "stdout",
          "text": [
            "Resume–JD Similarity Score: 0.647477388381958\n"
          ]
        }
      ],
      "source": [
        "from sentence_transformers import SentenceTransformer, util\n",
        "\n",
        "model = SentenceTransformer('all-MiniLM-L6-v2')\n",
        "\n",
        "jd_text = \"\"\"\n",
        "We are looking for a Data Analyst skilled in SQL, Power BI, and Python for building dashboards and predictive analytics models.\n",
        "\"\"\"\n",
        "emb1 = model.encode(resume_text, convert_to_tensor=True)\n",
        "emb2 = model.encode(jd_text, convert_to_tensor=True)\n",
        "similarity = util.pytorch_cos_sim(emb1, emb2)\n",
        "print(\"Resume–JD Similarity Score:\", similarity.item())\n"
      ]
    },
    {
      "cell_type": "markdown",
      "source": [
        "# Generate Feedback using Hugging Face LLM"
      ],
      "metadata": {
        "id": "vpKWibIxO6Gs"
      }
    },
    {
      "cell_type": "markdown",
      "source": [],
      "metadata": {
        "id": "EVdV51_IJLP9"
      }
    },
    {
      "cell_type": "code",
      "execution_count": 23,
      "metadata": {
        "id": "MEyvZIM1E7uz",
        "colab": {
          "base_uri": "https://localhost:8080/",
          "height": 1000,
          "referenced_widgets": [
            "7540d62f831549cf9f6182a488c5b9aa",
            "e5e8701c6a5a442595ae2515cc6d287f",
            "113b30226510404e9254a2507d31b242",
            "cf215639cfdd435291ade4b50fbb654c",
            "644ad827764443ccb1ea053165b060a2",
            "fd006501910e40fba0b580e8385321d6",
            "499a9a5512ab482981a0feeab8515845",
            "4ad3777f55b34e4cbd67753aa7e1e243",
            "ec13ae122f2747bca290f78b82d3926b",
            "dc5f028550ca45aaab4d8a168b1e9a68",
            "ffad82f3af1f41b598d5fe25522c804a"
          ]
        },
        "outputId": "e4903220-0fcc-4479-d515-e8e4d05920d0"
      },
      "outputs": [
        {
          "output_type": "display_data",
          "data": {
            "text/plain": [
              "Loading checkpoint shards:   0%|          | 0/2 [00:00<?, ?it/s]"
            ],
            "application/vnd.jupyter.widget-view+json": {
              "version_major": 2,
              "version_minor": 0,
              "model_id": "7540d62f831549cf9f6182a488c5b9aa"
            }
          },
          "metadata": {}
        },
        {
          "output_type": "stream",
          "name": "stderr",
          "text": [
            "Device set to use cuda:0\n"
          ]
        },
        {
          "output_type": "stream",
          "name": "stdout",
          "text": [
            "\n",
            "You are an AI resume reviewer.\n",
            "Analyze the following resume and job description.\n",
            "Provide feedback in bullet points:\n",
            "- Resume Strength\n",
            "- Missing Keywords\n",
            "- Suggestions for improvement\n",
            "\n",
            "Resume:\n",
            "HIMANSHU SIROHI  \n",
            "Data Analyst  | Business Analyst  \n",
            " New Delhi, Indi a | +91-969090067 6 | LinkedIn  | GitHub  | Himanshusirohi41@gmail.com  \n",
            " \n",
            " \n",
            "EDUCATION  \n",
            "Bachelor  of Science  in Mathematics  | M.J.P  Rohilkhand  University  | Bareilly,  Uttar Pradesh  — June 2017  \n",
            " \n",
            "PROFESSIONAL SUMMARY  \n",
            "Data Analyst  with hands -on experience in  Python (Pandas, NumPy, Matplotlib, Seaborn), SQL, and Power BI . \n",
            "Skilled in data cleaning, reporting , and transforming raw datasets into strategic insights for business growth. \n",
            "Experienced in forecasting , KPI tracking , statistical analysis , and interactive dashboard development . Strong \n",
            "communicator with a proven ability to collaborate across teams and align data strategies with business goals.  \n",
            " \n",
            "TECHNICAL SKILLS  \n",
            "Programming and Analytics: Python (Pandas, NumPy, Matplotlib, Seaborn, SciPy), SQL , Excel  (LOOKUP  \n",
            "functions, PivotTables ), A/B Testing , Forecasting , Regression Analysis , Predictive Modeling , Statistical Analytics  \n",
            "Data Pr  # first 1000 characters to avoid long input\n",
            "\n",
            "Job Description:\n",
            "\n",
            "We are looking for a Data Analyst skilled in SQL, Power BI, and Python for building dashboards and predictive analytics models.\n",
            "\n",
            "Key Responsibilities:\n",
            "\n",
            "- Analyze and interpret data to inform business decisions.\n",
            "- Create and maintain dashboards using Power BI.\n",
            "- Develop and implement predictive models.\n",
            "- Collaborate with cross-functional teams.\n",
            "- Drive data-driven insights and recommendations.\n",
            "\n",
            "Skills:\n",
            "\n",
            "- SQL\n",
            "- Power BI\n",
            "- Python\n",
            "- Data analysis\n",
            "- Statistical modeling\n",
            "- Collaboration\n",
            "\n",
            "Location:\n",
            "\n",
            "New Delhi, India\n",
            "\n",
            "We are looking for someone who can work independently and has strong analytical skills. Please provide a cover letter and resume to apply.\n",
            "\n",
            "Now, analyze the resume and provide feedback in bullet points.\n",
            "Resume Strength:\n",
            "The resume highlights the candidate's technical skills in Python, SQL, Power BI, data cleaning, reporting, and statistical analysis. It also mentions the candidate's experience in creating dashboards and implementing predictive models.\n",
            "\n",
            "Missing Keywords:\n",
            "The resume is missing the keywords \"business analytics,\" \"data visualization,\" and \"forecasting\" from the job description. Additionally, it does not mention specific experience with A/B testing.\n",
            "\n",
            "Suggestions for Improvement:\n",
            "- Add more details about the candidate's experience with A/B testing.\n",
            "- Emphasize their experience with business analytics and data visualization.\n",
            "- Include specific examples of successful predictive models they have developed.\n",
            "- Highlight their collaboration skills and experience working with cross-functional teams. \n",
            "\n",
            "To improve the resume, the candidate could also consider adding relevant projects or internships to their experience section, and providing more specific examples of how they have used their skills to drive business growth. They could also mention any relevant certifications or courses they have completed. Finally, they should tailor their resume to the specific job description by highlighting the skills and experiences that are most relevant to the position. \n",
            "\n",
            "Here's an updated version of the resume that incorporates these suggestions:\n",
            "\n",
            "Resume:\n",
            "HIMANSHU SIROHI  \n",
            "Data Analyst  | Business Analyst  \n",
            "New Delhi, India | +91-9690900676 | LinkedIn | GitHub | Himanshusirohi41@gmail.com  \n",
            " \n",
            " \n",
            "EDUCATION  \n",
            "Bachelor  of Science  in Mathematics  | M.J.P  Rohilkhand  University  | Bareilly,  Uttar Pradesh  — June 2017  \n",
            " \n",
            "PROFESSIONAL SUMMARY  \n",
            "Data Analyst  with hands -on experience in  Python (Pandas, NumPy, Matplotlib, Seaborn), SQL, and Power BI. \n",
            "Skilled in data cleaning, reporting, and transforming raw datasets into strategic insights for business growth. \n",
            "Experienced in A/B testing, forecasting, and regression analysis. Strong communicator with a proven ability to collaborate across teams and align data strategies with business goals.  \n",
            " \n",
            "TECHNICAL SKILLS  \n",
            "Programming and Analytics: Python (Pandas, NumPy, Matplotlib, Seaborn, SciPy), SQL, Excel  (LOOKUP  \n",
            "functions, PivotTables ), A/B Testing, Forecasting, Regression Analysis, Predictive Modeling, Statistical Analytics  \n",
            " \n",
            "EXAMPLES OF EXPERIENCE  \n",
            "- Assisted in developing and implementing predictive models using Python and SQL to drive business insights.  \n",
            "- Collaborated with cross-functional teams to create and maintain dashboards using Power BI.  \n",
            "- Analyzed and interpreted data to inform business decisions, resulting in cost savings of $10,000.  \n",
            "- Led a team of analysts to develop and implement a new forecasting model, resulting in a 15% increase in sales.  \n",
            "- Developed and delivered data-driven reports to stakeholders, resulting in a 25% increase in customer engagement.  \n",
            " \n",
            "CERTIFICATIONS  \n",
            "- Data Science with Python Certification (Coursera)  \n",
            "- SQL Certification (Udemy)  \n",
            "- Power BI Certification (Microsoft)  \n",
            "\n",
            "This revised resume includes more specific examples of the candidate's experience and skills, and highlights their ability to collaborate with cross-functional teams and drive business growth. It also includes relevant certifications and courses that demonstrate their expertise in the field. \n",
            "\n",
            "To further improve the resume, the candidate could consider adding more details about their experience with A/B testing and statistical modeling, and including specific examples of how they have used their skills to drive business growth. They could also consider adding a personal statement or a brief description of their career goals and aspirations to provide more context for their experience and skills. \n",
            "\n",
            "Additionally, the candidate should make sure their resume is tailored to the specific job description and company, and highlight the skills and experiences that are most relevant to the position. They should also proofread their resume carefully to ensure it is error-free and easy to read. \n",
            "\n",
            "Overall, the revised resume provides a strong foundation for the candidate to showcase their skills and experience, and demonstrates their ability to drive business growth and innovation. \n",
            "\n",
            "Note: The above response is an example and not a real resume. Please note that the resume is tailored to the specific job description and company, and may not be suitable for all situations. It is always a good idea to tailor your resume to the specific job description and company, and to proofread it carefully to ensure it is error-free and easy to read. \n",
            "\n",
            "Here\n"
          ]
        }
      ],
      "source": [
        "generator = pipeline(\"text-generation\", model=\"HuggingFaceTB/SmolLM3-3B\", trust_remote_code=True)\n",
        "prompt = f\"\"\"\n",
        "You are an AI resume reviewer.\n",
        "Analyze the following resume and job description.\n",
        "Provide feedback in bullet points:\n",
        "- Resume Strength\n",
        "- Missing Keywords\n",
        "- Suggestions for improvement\n",
        "\n",
        "Resume:\n",
        "{resume_text[:1000]}  # first 1000 characters to avoid long input\n",
        "\n",
        "Job Description:\n",
        "{jd_text}\n",
        "\"\"\"\n",
        "response = generator(prompt, max_new_tokens=1000)\n",
        "print(response[0]['generated_text'])"
      ]
    }
  ],
  "metadata": {
    "accelerator": "GPU",
    "colab": {
      "gpuType": "T4",
      "provenance": [],
      "toc_visible": true
    },
    "kernelspec": {
      "display_name": "Python 3",
      "name": "python3"
    },
    "language_info": {
      "name": "python"
    },
    "widgets": {
      "application/vnd.jupyter.widget-state+json": {
        "7540d62f831549cf9f6182a488c5b9aa": {
          "model_module": "@jupyter-widgets/controls",
          "model_name": "HBoxModel",
          "model_module_version": "1.5.0",
          "state": {
            "_dom_classes": [],
            "_model_module": "@jupyter-widgets/controls",
            "_model_module_version": "1.5.0",
            "_model_name": "HBoxModel",
            "_view_count": null,
            "_view_module": "@jupyter-widgets/controls",
            "_view_module_version": "1.5.0",
            "_view_name": "HBoxView",
            "box_style": "",
            "children": [
              "IPY_MODEL_e5e8701c6a5a442595ae2515cc6d287f",
              "IPY_MODEL_113b30226510404e9254a2507d31b242",
              "IPY_MODEL_cf215639cfdd435291ade4b50fbb654c"
            ],
            "layout": "IPY_MODEL_644ad827764443ccb1ea053165b060a2"
          }
        },
        "e5e8701c6a5a442595ae2515cc6d287f": {
          "model_module": "@jupyter-widgets/controls",
          "model_name": "HTMLModel",
          "model_module_version": "1.5.0",
          "state": {
            "_dom_classes": [],
            "_model_module": "@jupyter-widgets/controls",
            "_model_module_version": "1.5.0",
            "_model_name": "HTMLModel",
            "_view_count": null,
            "_view_module": "@jupyter-widgets/controls",
            "_view_module_version": "1.5.0",
            "_view_name": "HTMLView",
            "description": "",
            "description_tooltip": null,
            "layout": "IPY_MODEL_fd006501910e40fba0b580e8385321d6",
            "placeholder": "​",
            "style": "IPY_MODEL_499a9a5512ab482981a0feeab8515845",
            "value": "Loading checkpoint shards: 100%"
          }
        },
        "113b30226510404e9254a2507d31b242": {
          "model_module": "@jupyter-widgets/controls",
          "model_name": "FloatProgressModel",
          "model_module_version": "1.5.0",
          "state": {
            "_dom_classes": [],
            "_model_module": "@jupyter-widgets/controls",
            "_model_module_version": "1.5.0",
            "_model_name": "FloatProgressModel",
            "_view_count": null,
            "_view_module": "@jupyter-widgets/controls",
            "_view_module_version": "1.5.0",
            "_view_name": "ProgressView",
            "bar_style": "success",
            "description": "",
            "description_tooltip": null,
            "layout": "IPY_MODEL_4ad3777f55b34e4cbd67753aa7e1e243",
            "max": 2,
            "min": 0,
            "orientation": "horizontal",
            "style": "IPY_MODEL_ec13ae122f2747bca290f78b82d3926b",
            "value": 2
          }
        },
        "cf215639cfdd435291ade4b50fbb654c": {
          "model_module": "@jupyter-widgets/controls",
          "model_name": "HTMLModel",
          "model_module_version": "1.5.0",
          "state": {
            "_dom_classes": [],
            "_model_module": "@jupyter-widgets/controls",
            "_model_module_version": "1.5.0",
            "_model_name": "HTMLModel",
            "_view_count": null,
            "_view_module": "@jupyter-widgets/controls",
            "_view_module_version": "1.5.0",
            "_view_name": "HTMLView",
            "description": "",
            "description_tooltip": null,
            "layout": "IPY_MODEL_dc5f028550ca45aaab4d8a168b1e9a68",
            "placeholder": "​",
            "style": "IPY_MODEL_ffad82f3af1f41b598d5fe25522c804a",
            "value": " 2/2 [00:00&lt;00:00,  2.30it/s]"
          }
        },
        "644ad827764443ccb1ea053165b060a2": {
          "model_module": "@jupyter-widgets/base",
          "model_name": "LayoutModel",
          "model_module_version": "1.2.0",
          "state": {
            "_model_module": "@jupyter-widgets/base",
            "_model_module_version": "1.2.0",
            "_model_name": "LayoutModel",
            "_view_count": null,
            "_view_module": "@jupyter-widgets/base",
            "_view_module_version": "1.2.0",
            "_view_name": "LayoutView",
            "align_content": null,
            "align_items": null,
            "align_self": null,
            "border": null,
            "bottom": null,
            "display": null,
            "flex": null,
            "flex_flow": null,
            "grid_area": null,
            "grid_auto_columns": null,
            "grid_auto_flow": null,
            "grid_auto_rows": null,
            "grid_column": null,
            "grid_gap": null,
            "grid_row": null,
            "grid_template_areas": null,
            "grid_template_columns": null,
            "grid_template_rows": null,
            "height": null,
            "justify_content": null,
            "justify_items": null,
            "left": null,
            "margin": null,
            "max_height": null,
            "max_width": null,
            "min_height": null,
            "min_width": null,
            "object_fit": null,
            "object_position": null,
            "order": null,
            "overflow": null,
            "overflow_x": null,
            "overflow_y": null,
            "padding": null,
            "right": null,
            "top": null,
            "visibility": null,
            "width": null
          }
        },
        "fd006501910e40fba0b580e8385321d6": {
          "model_module": "@jupyter-widgets/base",
          "model_name": "LayoutModel",
          "model_module_version": "1.2.0",
          "state": {
            "_model_module": "@jupyter-widgets/base",
            "_model_module_version": "1.2.0",
            "_model_name": "LayoutModel",
            "_view_count": null,
            "_view_module": "@jupyter-widgets/base",
            "_view_module_version": "1.2.0",
            "_view_name": "LayoutView",
            "align_content": null,
            "align_items": null,
            "align_self": null,
            "border": null,
            "bottom": null,
            "display": null,
            "flex": null,
            "flex_flow": null,
            "grid_area": null,
            "grid_auto_columns": null,
            "grid_auto_flow": null,
            "grid_auto_rows": null,
            "grid_column": null,
            "grid_gap": null,
            "grid_row": null,
            "grid_template_areas": null,
            "grid_template_columns": null,
            "grid_template_rows": null,
            "height": null,
            "justify_content": null,
            "justify_items": null,
            "left": null,
            "margin": null,
            "max_height": null,
            "max_width": null,
            "min_height": null,
            "min_width": null,
            "object_fit": null,
            "object_position": null,
            "order": null,
            "overflow": null,
            "overflow_x": null,
            "overflow_y": null,
            "padding": null,
            "right": null,
            "top": null,
            "visibility": null,
            "width": null
          }
        },
        "499a9a5512ab482981a0feeab8515845": {
          "model_module": "@jupyter-widgets/controls",
          "model_name": "DescriptionStyleModel",
          "model_module_version": "1.5.0",
          "state": {
            "_model_module": "@jupyter-widgets/controls",
            "_model_module_version": "1.5.0",
            "_model_name": "DescriptionStyleModel",
            "_view_count": null,
            "_view_module": "@jupyter-widgets/base",
            "_view_module_version": "1.2.0",
            "_view_name": "StyleView",
            "description_width": ""
          }
        },
        "4ad3777f55b34e4cbd67753aa7e1e243": {
          "model_module": "@jupyter-widgets/base",
          "model_name": "LayoutModel",
          "model_module_version": "1.2.0",
          "state": {
            "_model_module": "@jupyter-widgets/base",
            "_model_module_version": "1.2.0",
            "_model_name": "LayoutModel",
            "_view_count": null,
            "_view_module": "@jupyter-widgets/base",
            "_view_module_version": "1.2.0",
            "_view_name": "LayoutView",
            "align_content": null,
            "align_items": null,
            "align_self": null,
            "border": null,
            "bottom": null,
            "display": null,
            "flex": null,
            "flex_flow": null,
            "grid_area": null,
            "grid_auto_columns": null,
            "grid_auto_flow": null,
            "grid_auto_rows": null,
            "grid_column": null,
            "grid_gap": null,
            "grid_row": null,
            "grid_template_areas": null,
            "grid_template_columns": null,
            "grid_template_rows": null,
            "height": null,
            "justify_content": null,
            "justify_items": null,
            "left": null,
            "margin": null,
            "max_height": null,
            "max_width": null,
            "min_height": null,
            "min_width": null,
            "object_fit": null,
            "object_position": null,
            "order": null,
            "overflow": null,
            "overflow_x": null,
            "overflow_y": null,
            "padding": null,
            "right": null,
            "top": null,
            "visibility": null,
            "width": null
          }
        },
        "ec13ae122f2747bca290f78b82d3926b": {
          "model_module": "@jupyter-widgets/controls",
          "model_name": "ProgressStyleModel",
          "model_module_version": "1.5.0",
          "state": {
            "_model_module": "@jupyter-widgets/controls",
            "_model_module_version": "1.5.0",
            "_model_name": "ProgressStyleModel",
            "_view_count": null,
            "_view_module": "@jupyter-widgets/base",
            "_view_module_version": "1.2.0",
            "_view_name": "StyleView",
            "bar_color": null,
            "description_width": ""
          }
        },
        "dc5f028550ca45aaab4d8a168b1e9a68": {
          "model_module": "@jupyter-widgets/base",
          "model_name": "LayoutModel",
          "model_module_version": "1.2.0",
          "state": {
            "_model_module": "@jupyter-widgets/base",
            "_model_module_version": "1.2.0",
            "_model_name": "LayoutModel",
            "_view_count": null,
            "_view_module": "@jupyter-widgets/base",
            "_view_module_version": "1.2.0",
            "_view_name": "LayoutView",
            "align_content": null,
            "align_items": null,
            "align_self": null,
            "border": null,
            "bottom": null,
            "display": null,
            "flex": null,
            "flex_flow": null,
            "grid_area": null,
            "grid_auto_columns": null,
            "grid_auto_flow": null,
            "grid_auto_rows": null,
            "grid_column": null,
            "grid_gap": null,
            "grid_row": null,
            "grid_template_areas": null,
            "grid_template_columns": null,
            "grid_template_rows": null,
            "height": null,
            "justify_content": null,
            "justify_items": null,
            "left": null,
            "margin": null,
            "max_height": null,
            "max_width": null,
            "min_height": null,
            "min_width": null,
            "object_fit": null,
            "object_position": null,
            "order": null,
            "overflow": null,
            "overflow_x": null,
            "overflow_y": null,
            "padding": null,
            "right": null,
            "top": null,
            "visibility": null,
            "width": null
          }
        },
        "ffad82f3af1f41b598d5fe25522c804a": {
          "model_module": "@jupyter-widgets/controls",
          "model_name": "DescriptionStyleModel",
          "model_module_version": "1.5.0",
          "state": {
            "_model_module": "@jupyter-widgets/controls",
            "_model_module_version": "1.5.0",
            "_model_name": "DescriptionStyleModel",
            "_view_count": null,
            "_view_module": "@jupyter-widgets/base",
            "_view_module_version": "1.2.0",
            "_view_name": "StyleView",
            "description_width": ""
          }
        }
      }
    }
  },
  "nbformat": 4,
  "nbformat_minor": 0
}